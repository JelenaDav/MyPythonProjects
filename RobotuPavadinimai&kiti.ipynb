{
 "cells": [
  {
   "cell_type": "code",
   "execution_count": 2,
   "metadata": {},
   "outputs": [
    {
     "name": "stdout",
     "output_type": "stream",
     "text": [
      "File Name: Academy REFTabular-UiDemo\n",
      "File Name: ButaiFromAruodas\n",
      "File Name: CapitalCitiesWeather\n",
      "File Name: ConvertINT32.TXT\n",
      "File Name: ExportExcelDataRow\n",
      "File Name: First Robot\n",
      "File Name: RegexWordAutomation\n",
      "File Name: RoboticEnterpriseFramework\n",
      "File Name: ScrapeDataFromUogaUoga\n",
      "File Name: ScrapedDataCapitalCities\n",
      "File Name: SearchWordInJsonFile\n",
      "File Name: SimpleCalculator\n",
      "File Name: UDEMY_7Robots\n",
      "File Name: VilniausKolegijaScreapedFiles\n"
     ]
    }
   ],
   "source": [
    "import os\n",
    "\n",
    "folderpath = r\"C:\\\\Users\\\\lenik\\\\OneDrive\\Desktop\\\\JELENOS\\UIPATH\"\n",
    "\n",
    "def listDir(dir):\n",
    "    fileNames = os.listdir(dir)\n",
    "    for filename in fileNames:\n",
    "        print(\"File Name: \"+filename)\n",
    "        #print(\"Folder Path: \"+os.path.abspath(os.path.join(dir, filename)), sep=\"\\n\")\n",
    "\n",
    "if __name__ == \"__main__\":\n",
    "    listDir(folderpath)\n"
   ]
  },
  {
   "cell_type": "code",
   "execution_count": 10,
   "metadata": {},
   "outputs": [
    {
     "ename": "ModuleNotFoundError",
     "evalue": "No module named 'sympy'",
     "output_type": "error",
     "traceback": [
      "\u001b[1;31m---------------------------------------------------------------------------\u001b[0m",
      "\u001b[1;31mModuleNotFoundError\u001b[0m                       Traceback (most recent call last)",
      "\u001b[1;32mUntitled-1.ipynb Cell 2\u001b[0m line \u001b[0;36m1\n\u001b[1;32m----> <a href='vscode-notebook-cell:Untitled-1.ipynb?jupyter-notebook#W1sdW50aXRsZWQ%3D?line=0'>1</a>\u001b[0m \u001b[39mimport\u001b[39;00m \u001b[39msympy\u001b[39;00m \u001b[39mas\u001b[39;00m \u001b[39msym\u001b[39;00m\n\u001b[0;32m      <a href='vscode-notebook-cell:Untitled-1.ipynb?jupyter-notebook#W1sdW50aXRsZWQ%3D?line=1'>2</a>\u001b[0m \u001b[39mfrom\u001b[39;00m \u001b[39mIPython\u001b[39;00m\u001b[39m.\u001b[39;00m\u001b[39mdisplay\u001b[39;00m \u001b[39mimport\u001b[39;00m display,Math\n\u001b[0;32m      <a href='vscode-notebook-cell:Untitled-1.ipynb?jupyter-notebook#W1sdW50aXRsZWQ%3D?line=2'>3</a>\u001b[0m \u001b[39mfrom\u001b[39;00m \u001b[39msympy\u001b[39;00m\u001b[39m.\u001b[39;00m\u001b[39mabc\u001b[39;00m \u001b[39mimport\u001b[39;00m x\n",
      "\u001b[1;31mModuleNotFoundError\u001b[0m: No module named 'sympy'"
     ]
    }
   ],
   "source": [
    "import sympy as sym\n",
    "from IPython.display import display,Math\n",
    "from sympy.abc import x\n",
    "\n",
    "p1=2*x**3 + x**2  - x\n",
    "p2=x**3 - x**4 - 4*x**2\n",
    "\n",
    "display(Math(sym.latex(p2)))\n",
    "\n",
    "\n"
   ]
  }
 ],
 "metadata": {
  "kernelspec": {
   "display_name": "Python 3",
   "language": "python",
   "name": "python3"
  },
  "language_info": {
   "codemirror_mode": {
    "name": "ipython",
    "version": 3
   },
   "file_extension": ".py",
   "mimetype": "text/x-python",
   "name": "python",
   "nbconvert_exporter": "python",
   "pygments_lexer": "ipython3",
   "version": "3.11.0"
  },
  "orig_nbformat": 4
 },
 "nbformat": 4,
 "nbformat_minor": 2
}
